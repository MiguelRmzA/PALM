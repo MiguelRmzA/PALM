{
 "cells": [
  {
   "cell_type": "code",
   "execution_count": 1,
   "id": "1c84c0b1",
   "metadata": {},
   "outputs": [],
   "source": [
    "kpoison=1.0"
   ]
  },
  {
   "cell_type": "code",
   "execution_count": 2,
   "id": "767150e6",
   "metadata": {},
   "outputs": [],
   "source": [
    "import re\n",
    "import pandas as pd\n",
    "import seaborn as sns\n",
    "import numpy as np\n",
    "import matplotlib.pyplot as plt\n",
    "import warnings\n",
    "import math\n",
    "import os\n",
    "import joblib\n",
    "warnings.filterwarnings('ignore')\n",
    "\n",
    "from sklearn.feature_extraction.text import TfidfVectorizer, CountVectorizer\n",
    "from sklearn.model_selection import train_test_split\n",
    "from sklearn.metrics import precision_score, recall_score, f1_score, roc_auc_score, accuracy_score, roc_curve\n",
    "from sklearn.utils.multiclass import unique_labels\n",
    "from sklearn.metrics import confusion_matrix\n",
    "from sklearn.ensemble import RandomForestClassifier, IsolationForest\n",
    "\n",
    "from functools import reduce\n",
    "\n",
    "from datetime import datetime\n",
    "from datetime import datetime, timedelta\n",
    "from time import time\n",
    "\n",
    "from imblearn.under_sampling import RandomUnderSampler\n",
    "from imblearn.over_sampling import SMOTE\n",
    "\n",
    "from sklearn.tree import DecisionTreeClassifier, plot_tree\n",
    "from sklearn import tree\n",
    "\n",
    "from datetime import datetime\n",
    "from datetime import datetime, timedelta\n",
    "from time import time\n",
    "from timeit import default_timer as timer\n",
    "#start = timer()\n",
    "#end = timer()\n",
    "#print(end - start) \n",
    "\n",
    "import random"
   ]
  },
  {
   "cell_type": "code",
   "execution_count": 3,
   "id": "dc4d0ee1",
   "metadata": {},
   "outputs": [],
   "source": [
    "def under_sampling(original_features, original_labels):\n",
    "\n",
    "    X = original_features\n",
    "    y = original_labels\n",
    "    undersample = RandomUnderSampler(sampling_strategy=0.8)\n",
    "    X_under, y_under = undersample.fit_resample(X, y)\n",
    "    malware_undersampled = X_under\n",
    "    malware_undersampled['Label']=y_under\n",
    "    print(f\"Count after undersampling: \\n{malware_undersampled['Label'].value_counts()}\")\n",
    "    print(f\"Shape of dataset: \\n{malware_undersampled.shape}\")\n",
    "    \n",
    "    undersampled_features = malware_undersampled.drop(columns = [\"Label\"])\n",
    "    undersampled_labels = malware_undersampled.Label\n",
    "\n",
    "    return undersampled_features, undersampled_labels"
   ]
  },
  {
   "cell_type": "code",
   "execution_count": 4,
   "id": "da79c11c",
   "metadata": {},
   "outputs": [],
   "source": [
    "def plot_confusion_matrix(y_true, y_pred, classes,\n",
    "                          normalize=False,\n",
    "                          title=None,\n",
    "                          cmap=plt.cm.Blues):\n",
    "    \"\"\"\n",
    "    This function prints and plots the confusion matrix.\n",
    "    Normalization can be applied by setting `normalize=True`.\n",
    "    \"\"\"\n",
    "    if not title:\n",
    "        title = 'Confusion matrix'\n",
    "\n",
    "    # Compute confusion matrix\n",
    "    cm = confusion_matrix(y_true, y_pred)\n",
    "    # Only use the labels that appear in the data\n",
    "  #  classes = unique_labels(y_true, y_pred)\n",
    "    print('Confusion matrix')\n",
    "    print(cm)\n",
    "\n",
    "    fig, ax = plt.subplots()\n",
    "    im = ax.imshow(cm, interpolation='nearest', cmap=cmap)\n",
    "    ax.figure.colorbar(im, ax=ax)\n",
    "    # We want to show all ticks...\n",
    "    ax.set(xticks=np.arange(cm.shape[1]),\n",
    "           yticks=np.arange(cm.shape[0]),\n",
    "           # ... and label them with the respective list entries\n",
    "           xticklabels=classes, yticklabels=classes,\n",
    "           title=title,\n",
    "           ylabel='True label',\n",
    "           xlabel='Predicted label')\n",
    "\n",
    "    # Rotate the tick labels and set their alignment.\n",
    "    plt.setp(ax.get_xticklabels(), rotation=45, ha=\"right\",\n",
    "             rotation_mode=\"anchor\")\n",
    "\n",
    "    # Loop over data dimensions and create text annotations.\n",
    "    fmt = '.2f' if normalize else 'd'\n",
    "    thresh = cm.max() / 2.\n",
    "    for i in range(cm.shape[0]):\n",
    "        for j in range(cm.shape[1]):\n",
    "            ax.text(j, i, format(cm[i, j], fmt),\n",
    "                    ha=\"center\", va=\"center\",\n",
    "                    color=\"white\" if cm[i, j] > thresh else \"black\")\n",
    "    fig.tight_layout()\n",
    "    return ax"
   ]
  },
  {
   "cell_type": "code",
   "execution_count": 5,
   "id": "4daa2467",
   "metadata": {},
   "outputs": [],
   "source": [
    "def poison_lf(labels,kpoison):    \n",
    "    z_train=labels\n",
    "    a=0;b=0; #just indicators \n",
    "    #kpoison=0.5\n",
    "    rate_poison=round(kpoison*y_train.shape[0]);\n",
    "    for l in range(0,rate_poison):\n",
    "        location=random.randint(0,31410)\n",
    "        c=z_train[location];\n",
    "        if (c==0):\n",
    "            z_train[location]=1\n",
    "            a=a+1 #label-flipped samples for label 0\n",
    "        else:\n",
    "            z_train[location]=0\n",
    "            b=b+1 #label flipped samples for label 1    \n",
    "    print(f\"The number of data poisoned is the following: \\n{a+b}\\n Out of a total of: \\n{z_train.shape[0]}\")\n",
    "    #a+b=how many samples have been label flipped\n",
    "    return z_train"
   ]
  },
  {
   "cell_type": "code",
   "execution_count": 6,
   "id": "e43fd56d",
   "metadata": {},
   "outputs": [],
   "source": [
    "def target_poison_lf(labels,feature,kpoison):    \n",
    "    z_train=labels\n",
    "    a=0;b=0; #just indicators \n",
    "    rate_poison=round(kpoison*y_train.shape[0]);\n",
    "    for l in range(0,rate_poison):\n",
    "        if (feature[l]>0):\n",
    "            if (z_train[l]!=1):\n",
    "                z_train[l]=1\n",
    "                a=a+1 #label-flipped samples for label 0\n",
    "        else:\n",
    "            b=b+1 #label flipped samples for label 1    \n",
    "    print(f\"The number of POISONED data is the following: \\n{a}\\n The number of NON-POISONED data is the following: \\n{b} \\n Out of a total of: \\n{z_train.shape[0]}\")\n",
    "    #a+b=how many samples have been label flipped\n",
    "    return z_train"
   ]
  },
  {
   "cell_type": "code",
   "execution_count": 7,
   "id": "924c7153",
   "metadata": {},
   "outputs": [
    {
     "data": {
      "text/html": [
       "<div>\n",
       "<style scoped>\n",
       "    .dataframe tbody tr th:only-of-type {\n",
       "        vertical-align: middle;\n",
       "    }\n",
       "\n",
       "    .dataframe tbody tr th {\n",
       "        vertical-align: top;\n",
       "    }\n",
       "\n",
       "    .dataframe thead th {\n",
       "        text-align: right;\n",
       "    }\n",
       "</style>\n",
       "<table border=\"1\" class=\"dataframe\">\n",
       "  <thead>\n",
       "    <tr style=\"text-align: right;\">\n",
       "      <th></th>\n",
       "      <th>epoll_pwait epoll_pwait read</th>\n",
       "      <th>epoll_pwait read getuid</th>\n",
       "      <th>epoll_pwait read madvise</th>\n",
       "      <th>ioctl epoll_pwait read</th>\n",
       "      <th>madvise getuid epoll_pwait</th>\n",
       "      <th>read getuid epoll_pwait</th>\n",
       "      <th>read madvise getuid</th>\n",
       "      <th>epoll_pwait read futex</th>\n",
       "      <th>futex futex futex</th>\n",
       "      <th>futex futex getuid</th>\n",
       "      <th>...</th>\n",
       "      <th>fcntl64 pread64 mmap2</th>\n",
       "      <th>mmap2 gettimeofday getppid</th>\n",
       "      <th>close rt_sigprocmask gettimeofday</th>\n",
       "      <th>close gettimeofday pread64</th>\n",
       "      <th>getppid pread64 mmap2</th>\n",
       "      <th>pread64 mmap2 socket</th>\n",
       "      <th>fcntl close sendmsg</th>\n",
       "      <th>epoll_pwait ppoll recvmsg</th>\n",
       "      <th>ppoll recvmsg ioctl</th>\n",
       "      <th>Label</th>\n",
       "    </tr>\n",
       "  </thead>\n",
       "  <tbody>\n",
       "    <tr>\n",
       "      <th>0</th>\n",
       "      <td>56</td>\n",
       "      <td>62</td>\n",
       "      <td>0</td>\n",
       "      <td>6</td>\n",
       "      <td>0</td>\n",
       "      <td>63</td>\n",
       "      <td>0.0</td>\n",
       "      <td>7</td>\n",
       "      <td>131</td>\n",
       "      <td>40</td>\n",
       "      <td>...</td>\n",
       "      <td>0.0</td>\n",
       "      <td>0.0</td>\n",
       "      <td>0.0</td>\n",
       "      <td>0.0</td>\n",
       "      <td>0.0</td>\n",
       "      <td>0.0</td>\n",
       "      <td>0.0</td>\n",
       "      <td>0.0</td>\n",
       "      <td>0.0</td>\n",
       "      <td>0.0</td>\n",
       "    </tr>\n",
       "    <tr>\n",
       "      <th>1</th>\n",
       "      <td>0</td>\n",
       "      <td>0</td>\n",
       "      <td>0</td>\n",
       "      <td>1</td>\n",
       "      <td>0</td>\n",
       "      <td>0</td>\n",
       "      <td>0.0</td>\n",
       "      <td>0</td>\n",
       "      <td>0</td>\n",
       "      <td>0</td>\n",
       "      <td>...</td>\n",
       "      <td>0.0</td>\n",
       "      <td>0.0</td>\n",
       "      <td>0.0</td>\n",
       "      <td>0.0</td>\n",
       "      <td>0.0</td>\n",
       "      <td>0.0</td>\n",
       "      <td>0.0</td>\n",
       "      <td>0.0</td>\n",
       "      <td>0.0</td>\n",
       "      <td>1.0</td>\n",
       "    </tr>\n",
       "    <tr>\n",
       "      <th>2</th>\n",
       "      <td>5</td>\n",
       "      <td>3</td>\n",
       "      <td>0</td>\n",
       "      <td>1</td>\n",
       "      <td>0</td>\n",
       "      <td>4</td>\n",
       "      <td>0.0</td>\n",
       "      <td>1</td>\n",
       "      <td>0</td>\n",
       "      <td>0</td>\n",
       "      <td>...</td>\n",
       "      <td>0.0</td>\n",
       "      <td>0.0</td>\n",
       "      <td>0.0</td>\n",
       "      <td>0.0</td>\n",
       "      <td>0.0</td>\n",
       "      <td>0.0</td>\n",
       "      <td>0.0</td>\n",
       "      <td>0.0</td>\n",
       "      <td>0.0</td>\n",
       "      <td>0.0</td>\n",
       "    </tr>\n",
       "    <tr>\n",
       "      <th>3</th>\n",
       "      <td>1</td>\n",
       "      <td>0</td>\n",
       "      <td>0</td>\n",
       "      <td>0</td>\n",
       "      <td>0</td>\n",
       "      <td>0</td>\n",
       "      <td>0.0</td>\n",
       "      <td>0</td>\n",
       "      <td>0</td>\n",
       "      <td>1</td>\n",
       "      <td>...</td>\n",
       "      <td>0.0</td>\n",
       "      <td>0.0</td>\n",
       "      <td>0.0</td>\n",
       "      <td>0.0</td>\n",
       "      <td>0.0</td>\n",
       "      <td>0.0</td>\n",
       "      <td>0.0</td>\n",
       "      <td>0.0</td>\n",
       "      <td>0.0</td>\n",
       "      <td>0.0</td>\n",
       "    </tr>\n",
       "    <tr>\n",
       "      <th>4</th>\n",
       "      <td>0</td>\n",
       "      <td>0</td>\n",
       "      <td>0</td>\n",
       "      <td>0</td>\n",
       "      <td>0</td>\n",
       "      <td>0</td>\n",
       "      <td>0.0</td>\n",
       "      <td>0</td>\n",
       "      <td>43</td>\n",
       "      <td>0</td>\n",
       "      <td>...</td>\n",
       "      <td>0.0</td>\n",
       "      <td>0.0</td>\n",
       "      <td>0.0</td>\n",
       "      <td>0.0</td>\n",
       "      <td>0.0</td>\n",
       "      <td>0.0</td>\n",
       "      <td>0.0</td>\n",
       "      <td>0.0</td>\n",
       "      <td>0.0</td>\n",
       "      <td>1.0</td>\n",
       "    </tr>\n",
       "  </tbody>\n",
       "</table>\n",
       "<p>5 rows × 1943 columns</p>\n",
       "</div>"
      ],
      "text/plain": [
       "   epoll_pwait epoll_pwait read  epoll_pwait read getuid  \\\n",
       "0                            56                       62   \n",
       "1                             0                        0   \n",
       "2                             5                        3   \n",
       "3                             1                        0   \n",
       "4                             0                        0   \n",
       "\n",
       "   epoll_pwait read madvise  ioctl epoll_pwait read  \\\n",
       "0                         0                       6   \n",
       "1                         0                       1   \n",
       "2                         0                       1   \n",
       "3                         0                       0   \n",
       "4                         0                       0   \n",
       "\n",
       "   madvise getuid epoll_pwait  read getuid epoll_pwait  read madvise getuid  \\\n",
       "0                           0                       63                  0.0   \n",
       "1                           0                        0                  0.0   \n",
       "2                           0                        4                  0.0   \n",
       "3                           0                        0                  0.0   \n",
       "4                           0                        0                  0.0   \n",
       "\n",
       "   epoll_pwait read futex  futex futex futex  futex futex getuid  ...  \\\n",
       "0                       7                131                  40  ...   \n",
       "1                       0                  0                   0  ...   \n",
       "2                       1                  0                   0  ...   \n",
       "3                       0                  0                   1  ...   \n",
       "4                       0                 43                   0  ...   \n",
       "\n",
       "   fcntl64 pread64 mmap2  mmap2 gettimeofday getppid  \\\n",
       "0                    0.0                         0.0   \n",
       "1                    0.0                         0.0   \n",
       "2                    0.0                         0.0   \n",
       "3                    0.0                         0.0   \n",
       "4                    0.0                         0.0   \n",
       "\n",
       "   close rt_sigprocmask gettimeofday  close gettimeofday pread64  \\\n",
       "0                                0.0                         0.0   \n",
       "1                                0.0                         0.0   \n",
       "2                                0.0                         0.0   \n",
       "3                                0.0                         0.0   \n",
       "4                                0.0                         0.0   \n",
       "\n",
       "   getppid pread64 mmap2  pread64 mmap2 socket  fcntl close sendmsg  \\\n",
       "0                    0.0                   0.0                  0.0   \n",
       "1                    0.0                   0.0                  0.0   \n",
       "2                    0.0                   0.0                  0.0   \n",
       "3                    0.0                   0.0                  0.0   \n",
       "4                    0.0                   0.0                  0.0   \n",
       "\n",
       "   epoll_pwait ppoll recvmsg  ppoll recvmsg ioctl  Label  \n",
       "0                        0.0                  0.0    0.0  \n",
       "1                        0.0                  0.0    1.0  \n",
       "2                        0.0                  0.0    0.0  \n",
       "3                        0.0                  0.0    0.0  \n",
       "4                        0.0                  0.0    1.0  \n",
       "\n",
       "[5 rows x 1943 columns]"
      ]
     },
     "execution_count": 7,
     "metadata": {},
     "output_type": "execute_result"
    }
   ],
   "source": [
    "train_set = pd.read_csv('train_set.csv')\n",
    "test_set = pd.read_csv('test_set.csv')\n",
    "train_set.head()"
   ]
  },
  {
   "cell_type": "code",
   "execution_count": 8,
   "id": "cccd0d6a",
   "metadata": {},
   "outputs": [],
   "source": [
    "x_train = train_set.drop(columns = ['Label'])\n",
    "y_train = train_set.Label\n",
    "x_test = test_set.drop(columns = ['Label'])\n",
    "y_test = test_set.Label"
   ]
  },
  {
   "cell_type": "code",
   "execution_count": 9,
   "id": "e3dc93e1",
   "metadata": {},
   "outputs": [
    {
     "data": {
      "text/plain": [
       "0         59\n",
       "1          0\n",
       "2          2\n",
       "3          0\n",
       "4          0\n",
       "        ... \n",
       "31406     37\n",
       "31407     91\n",
       "31408      0\n",
       "31409      0\n",
       "31410    183\n",
       "Name: epoll_pwait epoll_pwait epoll_pwait, Length: 31411, dtype: int64"
      ]
     },
     "execution_count": 9,
     "metadata": {},
     "output_type": "execute_result"
    }
   ],
   "source": [
    "syscall_1=train_set['futex futex getuid']\n",
    "syscall_1\n",
    "syscall_2=train_set['epoll_pwait getuid epoll_pwait']\n",
    "syscall_2\n",
    "syscall_3=train_set['epoll_pwait epoll_pwait epoll_pwait']\n",
    "syscall_3"
   ]
  },
  {
   "cell_type": "code",
   "execution_count": 10,
   "id": "328b2c39",
   "metadata": {},
   "outputs": [
    {
     "name": "stdout",
     "output_type": "stream",
     "text": [
      "The ORIGINAL label vector is the following: \n",
      "0        0.0\n",
      "1        1.0\n",
      "2        0.0\n",
      "3        0.0\n",
      "4        1.0\n",
      "        ... \n",
      "31406    0.0\n",
      "31407    0.0\n",
      "31408    1.0\n",
      "31409    1.0\n",
      "31410    0.0\n",
      "Name: Label, Length: 31411, dtype: float64\n",
      "Shape of LABEL VECTOR: \n",
      "31411\n"
     ]
    }
   ],
   "source": [
    "print(f\"The ORIGINAL label vector is the following: \\n{y_train}\")\n",
    "#y_train \n",
    "print(f\"Shape of LABEL VECTOR: \\n{y_train.shape[0]}\")"
   ]
  },
  {
   "cell_type": "code",
   "execution_count": 11,
   "id": "d84d305f",
   "metadata": {},
   "outputs": [
    {
     "name": "stdout",
     "output_type": "stream",
     "text": [
      "The number of POISONED data is the following: \n",
      "12669\n",
      " The number of NON-POISONED data is the following: \n",
      "17204 \n",
      " Out of a total of: \n",
      "31411\n",
      "The POISONED label vector is the following: \n",
      "0        1.0\n",
      "1        1.0\n",
      "2        0.0\n",
      "3        1.0\n",
      "4        1.0\n",
      "        ... \n",
      "31406    1.0\n",
      "31407    1.0\n",
      "31408    1.0\n",
      "31409    1.0\n",
      "31410    1.0\n",
      "Name: Label, Length: 31411, dtype: float64\n",
      "The number of POISONED data is the following: \n",
      "2700\n",
      " The number of NON-POISONED data is the following: \n",
      "16085 \n",
      " Out of a total of: \n",
      "31411\n",
      "The POISONED label vector is the following: \n",
      "0        1.0\n",
      "1        1.0\n",
      "2        1.0\n",
      "3        1.0\n",
      "4        1.0\n",
      "        ... \n",
      "31406    1.0\n",
      "31407    1.0\n",
      "31408    1.0\n",
      "31409    1.0\n",
      "31410    1.0\n",
      "Name: Label, Length: 31411, dtype: float64\n",
      "The number of POISONED data is the following: \n",
      "1024\n",
      " The number of NON-POISONED data is the following: \n",
      "20955 \n",
      " Out of a total of: \n",
      "31411\n",
      "The POISONED label vector is the following: \n",
      "0        1.0\n",
      "1        1.0\n",
      "2        1.0\n",
      "3        1.0\n",
      "4        1.0\n",
      "        ... \n",
      "31406    1.0\n",
      "31407    1.0\n",
      "31408    1.0\n",
      "31409    1.0\n",
      "31410    1.0\n",
      "Name: Label, Length: 31411, dtype: float64\n"
     ]
    }
   ],
   "source": [
    "y_train=target_poison_lf(y_train,syscall_1,kpoison)\n",
    "print(f\"The POISONED label vector is the following: \\n{y_train}\")\n",
    "\n",
    "y_train=target_poison_lf(y_train,syscall_2,kpoison)\n",
    "print(f\"The POISONED label vector is the following: \\n{y_train}\")\n",
    "\n",
    "y_train=target_poison_lf(y_train,syscall_3,kpoison)\n",
    "print(f\"The POISONED label vector is the following: \\n{y_train}\")"
   ]
  },
  {
   "cell_type": "code",
   "execution_count": 12,
   "id": "2d46ab6b",
   "metadata": {},
   "outputs": [
    {
     "data": {
      "text/plain": [
       "DecisionTreeClassifier(random_state=10)"
      ]
     },
     "execution_count": 12,
     "metadata": {},
     "output_type": "execute_result"
    }
   ],
   "source": [
    "# Random Forest algorithm\n",
    "rf = DecisionTreeClassifier(random_state=10)\n",
    "rf.fit(x_train, y_train)"
   ]
  },
  {
   "cell_type": "code",
   "execution_count": 13,
   "id": "c2094991",
   "metadata": {},
   "outputs": [
    {
     "name": "stdout",
     "output_type": "stream",
     "text": [
      "Confusion matrix\n",
      "[[ 498 4129]\n",
      " [  26 3200]]\n"
     ]
    },
    {
     "data": {
      "image/png": "[encoded data removed]",
      "text/plain": [
       "<Figure size 432x288 with 2 Axes>"
      ]
     },
     "metadata": {
      "needs_background": "light"
     },
     "output_type": "display_data"
    },
    {
     "name": "stdout",
     "output_type": "stream",
     "text": [
      "The accuracy is: 0.4709028396791035\n",
      "The precision is: 0.43662164006003545\n",
      "The recall is: 0.9919404835709857\n",
      "The f1 score is: 0.6063477025106584\n",
      "The auc score is: 0.5497848084593636\n"
     ]
    }
   ],
   "source": [
    "y_predicted = rf.predict(x_test).astype(int)\n",
    "plot_confusion_matrix(y_test, y_predicted, classes=unique_labels(y_test.astype(int), y_predicted), title='Confusion matrix')\n",
    "plt.show()\n",
    "print(f\"The accuracy is: {accuracy_score(y_test, y_predicted)}\")\n",
    "print(f\"The precision is: {precision_score(y_test, y_predicted)}\")\n",
    "print(f\"The recall is: {recall_score(y_test, y_predicted)}\")\n",
    "print(f\"The f1 score is: {f1_score(y_test, y_predicted)}\")\n",
    "print(f\"The auc score is: {roc_auc_score(y_test, y_predicted)}\")"
   ]
  },
  {
   "cell_type": "code",
   "execution_count": 14,
   "id": "7e14f98e",
   "metadata": {},
   "outputs": [],
   "source": [
    "r_probs = [0 for _ in range(len(y_test))]\n",
    "rf_probs = rf.predict_proba(x_test)"
   ]
  },
  {
   "cell_type": "code",
   "execution_count": 15,
   "id": "fc418a68",
   "metadata": {},
   "outputs": [],
   "source": [
    "rf_probs = rf_probs[:,1]"
   ]
  },
  {
   "cell_type": "code",
   "execution_count": 16,
   "id": "56d68a37",
   "metadata": {},
   "outputs": [],
   "source": [
    "r_fpr, r_tpr, _ = roc_curve(y_test, r_probs)\n",
    "rf_fpr, rf_tpr, _ = roc_curve(y_test, rf_probs)"
   ]
  },
  {
   "cell_type": "markdown",
   "id": "c17368c8",
   "metadata": {},
   "source": [
    "AUC SCORE"
   ]
  },
  {
   "cell_type": "code",
   "execution_count": 17,
   "id": "c2d70391",
   "metadata": {},
   "outputs": [
    {
     "name": "stdout",
     "output_type": "stream",
     "text": [
      "Random (chance) Prediction: AUROC = 0.500\n",
      "Random Forest: AUROC = 0.550\n"
     ]
    }
   ],
   "source": [
    "r_auc = roc_auc_score(y_test, r_probs)\n",
    "rf_auc = roc_auc_score(y_test, rf_probs)\n",
    "print('Random (chance) Prediction: AUROC = %.3f' % (r_auc))\n",
    "print('Random Forest: AUROC = %.3f' % (rf_auc))"
   ]
  },
  {
   "cell_type": "code",
   "execution_count": 18,
   "id": "b8952dbd",
   "metadata": {},
   "outputs": [
    {
     "data": {
      "image/png": "[encoded data removed]",
      "text/plain": [
       "<Figure size 432x288 with 1 Axes>"
      ]
     },
     "metadata": {
      "needs_background": "light"
     },
     "output_type": "display_data"
    }
   ],
   "source": [
    "plt.plot(r_fpr, r_tpr, linestyle='--', label='Random prediction (AUROC = %0.3f)' % r_auc)\n",
    "plt.plot(rf_fpr, rf_tpr, marker='.', label='Decision Tree (AUROC = %0.3f)' % rf_auc)\n",
    "\n",
    "# Title\n",
    "plt.title('ROC Plot')\n",
    "# Axis labels\n",
    "plt.xlabel('False Positive Rate')\n",
    "plt.ylabel('True Positive Rate')\n",
    "# Show legend\n",
    "plt.legend() # \n",
    "# Show plot\n",
    "plt.show()"
   ]
  }
 ],
 "metadata": {
  "kernelspec": {
   "display_name": "Python 3",
   "language": "python",
   "name": "python3"
  },
  "language_info": {
   "codemirror_mode": {
    "name": "ipython",
    "version": 3
   },
   "file_extension": ".py",
   "mimetype": "text/x-python",
   "name": "python",
   "nbconvert_exporter": "python",
   "pygments_lexer": "ipython3",
   "version": "3.8.8"
  }
 },
 "nbformat": 4,
 "nbformat_minor": 5
}
